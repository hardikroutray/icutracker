{
  "nbformat": 4,
  "nbformat_minor": 0,
  "metadata": {
    "colab": {
      "name": "bedtracker_haryana.ipynb",
      "provenance": [],
      "collapsed_sections": [],
      "include_colab_link": true
    },
    "kernelspec": {
      "display_name": "Python 3",
      "name": "python3"
    },
    "language_info": {
      "name": "python"
    }
  },
  "cells": [
    {
      "cell_type": "markdown",
      "metadata": {
        "id": "view-in-github",
        "colab_type": "text"
      },
      "source": [
        "<a href=\"https://colab.research.google.com/github/Shagesh/icutracker/blob/main/bedtracker_haryana_1.ipynb\" target=\"_parent\"><img src=\"https://colab.research.google.com/assets/colab-badge.svg\" alt=\"Open In Colab\"/></a>"
      ]
    },
    {
      "cell_type": "code",
      "metadata": {
        "id": "Z1XydsrddTHo",
        "colab": {
          "base_uri": "https://localhost:8080/"
        },
        "outputId": "831bc391-f510-46d1-8bc9-f0eb62006396"
      },
      "source": [
        "#nothing\n",
        "!pip install git+https://github.com/MechanicalSoup/MechanicalSoup\n",
        "import mechanicalsoup\n",
        "from bs4 import BeautifulSoup\n",
        "browser = mechanicalsoup.StatefulBrowser()"
      ],
      "execution_count": 48,
      "outputs": [
        {
          "output_type": "stream",
          "text": [
            "Collecting git+https://github.com/MechanicalSoup/MechanicalSoup\n",
            "  Cloning https://github.com/MechanicalSoup/MechanicalSoup to /tmp/pip-req-build-uad6wo60\n",
            "  Running command git clone -q https://github.com/MechanicalSoup/MechanicalSoup /tmp/pip-req-build-uad6wo60\n",
            "Requirement already satisfied (use --upgrade to upgrade): MechanicalSoup==1.1.0.dev0 from git+https://github.com/MechanicalSoup/MechanicalSoup in /usr/local/lib/python3.7/dist-packages\n",
            "Requirement already satisfied: requests>=2.22.0 in /usr/local/lib/python3.7/dist-packages (from MechanicalSoup==1.1.0.dev0) (2.23.0)\n",
            "Requirement already satisfied: beautifulsoup4>=4.7 in /usr/local/lib/python3.7/dist-packages (from MechanicalSoup==1.1.0.dev0) (4.9.3)\n",
            "Requirement already satisfied: lxml in /usr/local/lib/python3.7/dist-packages (from MechanicalSoup==1.1.0.dev0) (4.2.6)\n",
            "Requirement already satisfied: idna<3,>=2.5 in /usr/local/lib/python3.7/dist-packages (from requests>=2.22.0->MechanicalSoup==1.1.0.dev0) (2.10)\n",
            "Requirement already satisfied: certifi>=2017.4.17 in /usr/local/lib/python3.7/dist-packages (from requests>=2.22.0->MechanicalSoup==1.1.0.dev0) (2020.12.5)\n",
            "Requirement already satisfied: urllib3!=1.25.0,!=1.25.1,<1.26,>=1.21.1 in /usr/local/lib/python3.7/dist-packages (from requests>=2.22.0->MechanicalSoup==1.1.0.dev0) (1.24.3)\n",
            "Requirement already satisfied: chardet<4,>=3.0.2 in /usr/local/lib/python3.7/dist-packages (from requests>=2.22.0->MechanicalSoup==1.1.0.dev0) (3.0.4)\n",
            "Requirement already satisfied: soupsieve>1.2; python_version >= \"3.0\" in /usr/local/lib/python3.7/dist-packages (from beautifulsoup4>=4.7->MechanicalSoup==1.1.0.dev0) (2.2.1)\n",
            "Building wheels for collected packages: MechanicalSoup\n",
            "  Building wheel for MechanicalSoup (setup.py) ... \u001b[?25l\u001b[?25hdone\n",
            "  Created wheel for MechanicalSoup: filename=MechanicalSoup-1.1.0.dev0-cp37-none-any.whl size=19235 sha256=af7542bd4c22435d8dde54fa69f1a399610020c0bd9676610063b775fa71d068\n",
            "  Stored in directory: /tmp/pip-ephem-wheel-cache-ok1ymlv_/wheels/ab/49/c9/1ed376a4d016baf515d3261131799bd70b2c200e573eb5cd53\n",
            "Successfully built MechanicalSoup\n"
          ],
          "name": "stdout"
        }
      ]
    },
    {
      "cell_type": "code",
      "metadata": {
        "id": "gPiikpw-zkz0"
      },
      "source": [
        "Districts = []\n",
        "D_options = browser.page.find_all('option')\n",
        "for i in range(len(D_options)):\n",
        "  Districts.append(D_options[i].contents)"
      ],
      "execution_count": 157,
      "outputs": []
    },
    {
      "cell_type": "code",
      "metadata": {
        "id": "FNqKXouuFpGB"
      },
      "source": [
        "District_name = []\n",
        "Haryana_Hospital_name = []\n",
        "Haryana_Total_Isolation_beds = []\n",
        "Haryana_Total_ICU = []\n",
        "Haryana_Total_Ventilators = []\n",
        "Haryana_Current_Isolation_beds = []\n",
        "Haryana_Current_ICU = []\n",
        "Haryana_Current_Ventilators = []\n",
        "Haryana_Patients = []\n",
        "for i in np.arange(23)+1:\n",
        "  address = 'https://coronaharyana.in/?city=' + str(i)\n",
        "  browser.open(address)\n",
        "\n",
        "  District_name.append(browser.page.find_all(\"div\", {\"class\" : \"media-body\"})[1].contents[1].contents[0][:browser.page.find_all(\"div\", {\"class\" : \"media-body\"})[1].contents[1].contents[0].find(\"Covid\")-1])\n",
        "\n",
        "  end_index = browser.page.find_all(\"script\")[4].string.find(\"');\\r\\n$('#totTyp0Ib').html('\")\n",
        "  n_hospitals = int(browser.page.find_all(\"script\")[4].string[22:end_index])\n",
        "\n",
        "  list_div = browser.page.find_all(\"div\", {\"class\": \"psahuDiv community-post wow fadeInUp\"})\n",
        "\n",
        "  Hospital_name = []\n",
        "  Total_Isolation_beds = np.zeros(n_hospitals)\n",
        "  Total_ICU = np.zeros(n_hospitals)\n",
        "  Total_Ventilators = np.zeros(n_hospitals)\n",
        "  Current_isolation_beds = np.zeros(n_hospitals)\n",
        "  Current_ICU = np.zeros(n_hospitals)\n",
        "  Current_Ventilators = np.zeros(n_hospitals)\n",
        "\n",
        "  for i in range(n_hospitals):\n",
        "    Hospital_name.append(list_div[i].find('h6').contents[0][15:-1])\n",
        "    Total_Isolation_beds[i] = int(list_div[i].find('div').contents[1].contents[5].contents[0][list_div[i].find('div').contents[1].contents[5].contents[0].find('Isolation Beds: ') + 16:list_div[i].find('div').contents[1].contents[5].contents[0].find(', ')])\n",
        "    Total_ICU[i] = int(list_div[i].find('div').contents[1].contents[5].contents[0][list_div[i].find('div').contents[1].contents[5].contents[0].find('ICU: ') + 5:list_div[i].find('div').contents[1].contents[5].contents[0].find(', ', list_div[i].find('div').contents[1].contents[5].contents[0].find(', ')+1)])\n",
        "    Total_Ventilators[i] = int(list_div[i].find('div').contents[1].contents[5].contents[0][list_div[i].find('div').contents[1].contents[5].contents[0].find('Ventilators: ') + 13:])\n",
        "\n",
        "    if \"Yes\" in list_div[i].find('div').contents[1].contents[3].contents[0] :\n",
        "      shift = 2\n",
        "    else :\n",
        "      shift = 0\n",
        "\n",
        "    loc = list_div[i].find('div').contents[1].contents[3].contents[1+shift].contents[0].find('Utilized')\n",
        "    if loc > 0:\n",
        "      sign = -1\n",
        "      Current_isolation_beds[i] = sign*int(list_div[i].find('div').contents[1].contents[3].contents[1+shift].contents[0][loc+9:])\n",
        "    else :\n",
        "      sign = 1\n",
        "      Current_isolation_beds[i] = sign*int(list_div[i].find('div').contents[1].contents[3].contents[1+shift].contents[0][:])\n",
        "\n",
        "    loc = list_div[i].find('div').contents[1].contents[3].contents[3+shift].contents[0].find('Utilized')\n",
        "    if loc > 0:\n",
        "      sign = -1\n",
        "      Current_ICU[i] = sign*int(list_div[i].find('div').contents[1].contents[3].contents[3+shift].contents[0][loc+9:])\n",
        "    else :\n",
        "      sign = 1\n",
        "      Current_ICU[i] = sign*int(list_div[i].find('div').contents[1].contents[3].contents[3+shift].contents[0][:])\n",
        "\n",
        "    loc = list_div[i].find('div').contents[1].contents[3].contents[5+shift].contents[0].find('Utilized')\n",
        "    if loc > 0:\n",
        "      sign = -1\n",
        "      Current_Ventilators[i] = sign*int(list_div[i].find('div').contents[1].contents[3].contents[5+shift].contents[0][loc+9:])\n",
        "    else :\n",
        "      sign = 1\n",
        "      Current_Ventilators[i] = sign*int(list_div[i].find('div').contents[1].contents[3].contents[5+shift].contents[0][:])\n",
        "\n",
        "  Patients = Total_Isolation_beds + Total_ICU + Total_Ventilators - (Current_isolation_beds + Current_ICU + Current_Ventilators)\n",
        "  \n",
        "  Haryana_Hospital_name.append(Hospital_name)\n",
        "  Haryana_Total_Isolation_beds.append(Total_Isolation_beds)\n",
        "  Haryana_Total_ICU.append(Total_ICU)\n",
        "  Haryana_Total_Ventilators.append(Total_Ventilators)\n",
        "  Haryana_Current_Isolation_beds.append(Current_isolation_beds)\n",
        "  Haryana_Current_ICU.append(Current_ICU)\n",
        "  Haryana_Current_Ventilators.append(Current_Ventilators)\n",
        "  Haryana_Patients.append(Patients)"
      ],
      "execution_count": 158,
      "outputs": []
    },
    {
      "cell_type": "code",
      "metadata": {
        "colab": {
          "base_uri": "https://localhost:8080/"
        },
        "id": "-xuo-zGyEjxC",
        "outputId": "524239b1-c169-4445-8d8d-cf747fbd87f9"
      },
      "source": [
        "#District_name, Haryana_Hospital_name, Haryana_Total_Isolation_beds, Haryana_Total_ICU, Haryana_Total_Ventilators, Haryana_Current_Isolation_beds, Haryana_Current_ICU, Haryana_Current_Ventilators, Haryana_Patients\n",
        "print(District_name)"
      ],
      "execution_count": 132,
      "outputs": [
        {
          "output_type": "stream",
          "text": [
            "['Ambala', 'Bhiwani', 'Charki Dadri', 'Faridabad', 'Fatehabad', 'Gurugram', 'Hisar', 'Jhajjar', 'Jind', 'Kaithal', 'Karnal', 'Kurukshetra', 'Mahendragarh', '', 'Palwal', 'Panchkula', 'Panipat', 'Rewari', 'Rohtak', 'Sirsa', 'Sonipat', 'Yamunanagar', 'Nuh']\n"
          ],
          "name": "stdout"
        }
      ]
    },
    {
      "cell_type": "code",
      "metadata": {
        "colab": {
          "base_uri": "https://localhost:8080/",
          "height": 402
        },
        "id": "tVZls2KMYaLV",
        "outputId": "4ec34526-0688-4dbb-dd0a-9d11f427158e"
      },
      "source": [
        "import pandas as pd\n",
        "listdf = []\n",
        "for i in range(len(District_name)):\n",
        "  \n",
        "  df = pd.DataFrame({\"District\":District_name[i] ,\"Hospital Name\": Haryana_Hospital_name[i], \"Total isolation beds\": Haryana_Total_Isolation_beds[i], \"Total ICU beds\": Haryana_Total_ICU[i], \"Total Ventilators\": Haryana_Total_Ventilators[i], \"Vacant isolation beds\": Haryana_Current_Isolation_beds[i], \"Vacant ICU beds\": Haryana_Current_ICU[i], \"Vacant Ventilators\": Haryana_Current_Ventilators[i]})\n",
        "  listdf.append(df)\n",
        "\n",
        "df = pd.concat(listdf)\n",
        "df\n"
      ],
      "execution_count": 159,
      "outputs": [
        {
          "output_type": "execute_result",
          "data": {
            "text/html": [
              "<div>\n",
              "<style scoped>\n",
              "    .dataframe tbody tr th:only-of-type {\n",
              "        vertical-align: middle;\n",
              "    }\n",
              "\n",
              "    .dataframe tbody tr th {\n",
              "        vertical-align: top;\n",
              "    }\n",
              "\n",
              "    .dataframe thead th {\n",
              "        text-align: right;\n",
              "    }\n",
              "</style>\n",
              "<table border=\"1\" class=\"dataframe\">\n",
              "  <thead>\n",
              "    <tr style=\"text-align: right;\">\n",
              "      <th></th>\n",
              "      <th>District</th>\n",
              "      <th>Hospital Name</th>\n",
              "      <th>Total isolation beds</th>\n",
              "      <th>Total ICU beds</th>\n",
              "      <th>Total Ventilators</th>\n",
              "      <th>Vacant isolation beds</th>\n",
              "      <th>Vacant ICU beds</th>\n",
              "      <th>Vacant Ventilators</th>\n",
              "    </tr>\n",
              "  </thead>\n",
              "  <tbody>\n",
              "    <tr>\n",
              "      <th>0</th>\n",
              "      <td>Ambala</td>\n",
              "      <td>District Civil Hospital</td>\n",
              "      <td>0.0</td>\n",
              "      <td>0.0</td>\n",
              "      <td>0.0</td>\n",
              "      <td>-73.0</td>\n",
              "      <td>-4.0</td>\n",
              "      <td>-1.0</td>\n",
              "    </tr>\n",
              "    <tr>\n",
              "      <th>1</th>\n",
              "      <td>Ambala</td>\n",
              "      <td>District Civil Hospital Ambala Cantt</td>\n",
              "      <td>0.0</td>\n",
              "      <td>6.0</td>\n",
              "      <td>0.0</td>\n",
              "      <td>-54.0</td>\n",
              "      <td>2.0</td>\n",
              "      <td>-2.0</td>\n",
              "    </tr>\n",
              "    <tr>\n",
              "      <th>2</th>\n",
              "      <td>Ambala</td>\n",
              "      <td>Guardian Hospital</td>\n",
              "      <td>0.0</td>\n",
              "      <td>0.0</td>\n",
              "      <td>0.0</td>\n",
              "      <td>-12.0</td>\n",
              "      <td>0.0</td>\n",
              "      <td>0.0</td>\n",
              "    </tr>\n",
              "    <tr>\n",
              "      <th>3</th>\n",
              "      <td>Ambala</td>\n",
              "      <td>Mehandiratta Hospital</td>\n",
              "      <td>0.0</td>\n",
              "      <td>0.0</td>\n",
              "      <td>0.0</td>\n",
              "      <td>-19.0</td>\n",
              "      <td>0.0</td>\n",
              "      <td>-1.0</td>\n",
              "    </tr>\n",
              "    <tr>\n",
              "      <th>4</th>\n",
              "      <td>Ambala</td>\n",
              "      <td>MM Medical College Pvt</td>\n",
              "      <td>225.0</td>\n",
              "      <td>40.0</td>\n",
              "      <td>15.0</td>\n",
              "      <td>122.0</td>\n",
              "      <td>18.0</td>\n",
              "      <td>14.0</td>\n",
              "    </tr>\n",
              "    <tr>\n",
              "      <th>...</th>\n",
              "      <td>...</td>\n",
              "      <td>...</td>\n",
              "      <td>...</td>\n",
              "      <td>...</td>\n",
              "      <td>...</td>\n",
              "      <td>...</td>\n",
              "      <td>...</td>\n",
              "      <td>...</td>\n",
              "    </tr>\n",
              "    <tr>\n",
              "      <th>22</th>\n",
              "      <td>Yamunanagar</td>\n",
              "      <td>SWASTIK HOSPITAL</td>\n",
              "      <td>2.0</td>\n",
              "      <td>0.0</td>\n",
              "      <td>0.0</td>\n",
              "      <td>0.0</td>\n",
              "      <td>0.0</td>\n",
              "      <td>0.0</td>\n",
              "    </tr>\n",
              "    <tr>\n",
              "      <th>23</th>\n",
              "      <td>Yamunanagar</td>\n",
              "      <td>tejli stadium</td>\n",
              "      <td>100.0</td>\n",
              "      <td>0.0</td>\n",
              "      <td>0.0</td>\n",
              "      <td>51.0</td>\n",
              "      <td>0.0</td>\n",
              "      <td>0.0</td>\n",
              "    </tr>\n",
              "    <tr>\n",
              "      <th>24</th>\n",
              "      <td>Yamunanagar</td>\n",
              "      <td>WARYAM SINGH HOSPITAL</td>\n",
              "      <td>52.0</td>\n",
              "      <td>2.0</td>\n",
              "      <td>0.0</td>\n",
              "      <td>5.0</td>\n",
              "      <td>0.0</td>\n",
              "      <td>0.0</td>\n",
              "    </tr>\n",
              "    <tr>\n",
              "      <th>0</th>\n",
              "      <td>Nuh</td>\n",
              "      <td>DCH SHKM GMC Nalhar</td>\n",
              "      <td>165.0</td>\n",
              "      <td>31.0</td>\n",
              "      <td>31.0</td>\n",
              "      <td>79.0</td>\n",
              "      <td>0.0</td>\n",
              "      <td>0.0</td>\n",
              "    </tr>\n",
              "    <tr>\n",
              "      <th>1</th>\n",
              "      <td>Nuh</td>\n",
              "      <td>DCHC Al-Aafia Civil Hospital Mandikhera</td>\n",
              "      <td>24.0</td>\n",
              "      <td>3.0</td>\n",
              "      <td>3.0</td>\n",
              "      <td>2.0</td>\n",
              "      <td>0.0</td>\n",
              "      <td>0.0</td>\n",
              "    </tr>\n",
              "  </tbody>\n",
              "</table>\n",
              "<p>393 rows × 8 columns</p>\n",
              "</div>"
            ],
            "text/plain": [
              "       District  ... Vacant Ventilators\n",
              "0        Ambala  ...               -1.0\n",
              "1        Ambala  ...               -2.0\n",
              "2        Ambala  ...                0.0\n",
              "3        Ambala  ...               -1.0\n",
              "4        Ambala  ...               14.0\n",
              "..          ...  ...                ...\n",
              "22  Yamunanagar  ...                0.0\n",
              "23  Yamunanagar  ...                0.0\n",
              "24  Yamunanagar  ...                0.0\n",
              "0           Nuh  ...                0.0\n",
              "1           Nuh  ...                0.0\n",
              "\n",
              "[393 rows x 8 columns]"
            ]
          },
          "metadata": {
            "tags": []
          },
          "execution_count": 159
        }
      ]
    },
    {
      "cell_type": "code",
      "metadata": {
        "id": "cRtJZtePfuhd"
      },
      "source": [
        ""
      ],
      "execution_count": null,
      "outputs": []
    }
  ]
}